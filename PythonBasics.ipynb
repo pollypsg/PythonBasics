{
 "cells": [
  {
   "cell_type": "code",
   "execution_count": 3,
   "metadata": {},
   "outputs": [
    {
     "name": "stdin",
     "output_type": "stream",
     "text": [
      "Qual é o seu peso? (Kg)  76\n",
      "Qual é a sua altura? (m)  1.74\n"
     ]
    },
    {
     "name": "stdout",
     "output_type": "stream",
     "text": [
      "O IMC dessa pessoa é de 25.1\n",
      "Acima do peso\n",
      "O que pode acontecer?\n",
      "Fadiga, má circulação, varizes\n"
     ]
    }
   ],
   "source": [
    "# Indice de Massa Corporal\n",
    "w = float(input('Qual é o seu peso? (Kg) '))\n",
    "h = float(input('Qual é a sua altura? (m) '))\n",
    "imc = w / (h ** 2)\n",
    "print('O IMC dessa pessoa é de {:.1f}'.format(imc))\n",
    "\n",
    "#Condições do IMC\n",
    "if imc < 17:\n",
    "    print('Muito abaixo do peso')\n",
    "    print('O que pode acontecer?\\nQueda de cabelo, infertilidade, ausência menstrual')\n",
    "elif imc < 18.5:\n",
    "    print('Abaixo do peso')\n",
    "    print('O que pode acontecer?\\nFadiga, stress, ansiedade')\n",
    "elif imc < 25:\n",
    "    print('Peso normal')\n",
    "    print('O que pode acontecer?\\nMenor risco de doenças cardíacas e vasculares')\n",
    "elif imc < 30:\n",
    "    print('Acima do peso')\n",
    "    print('O que pode acontecer?\\nFadiga, má circulação, varizes')\n",
    "elif imc < 35:\n",
    "    print('Obesidade Grau I')\n",
    "    print('O que pode acontecer?\\nDiabetes, angina, infarto, aterosclerose')\n",
    "elif imc <= 40:\n",
    "    print('Obesidade Grau II')\n",
    "    print('O que pode acontecer?\\nApneia do sono, falta de ar')\n",
    "else:\n",
    "    print('Obesidade Grau III')\n",
    "    print('O que pode acontecer?\\nRefluxo, dificuldade para se mover, escaras, diabetes, infarto, AVC')"
   ]
  },
  {
   "cell_type": "code",
   "execution_count": 10,
   "metadata": {},
   "outputs": [
    {
     "name": "stdin",
     "output_type": "stream",
     "text": [
      "Digite algo:        \n"
     ]
    },
    {
     "name": "stdout",
     "output_type": "stream",
     "text": [
      "O tipo primitivo desse valor é:<class 'str'>\n",
      "Só tem espaços?True\n",
      "É um número? False\n",
      "É alfabético?False\n",
      "É alfanumérico?False\n",
      "Está em maiúsculas?False\n",
      "Está em minúsculas?False\n",
      "Está capitalizada?<built-in method istitle of str object at 0x038C1520>\n"
     ]
    }
   ],
   "source": [
    "# Todas as informações de uma variável:\n",
    "algo = input('Digite algo: ')\n",
    "print('O tipo primitivo desse valor é:{}'.format(type(algo)))\n",
    "print('Só tem espaços?{}'.format(algo.isspace()))\n",
    "print('É um número? {}'.format(algo.isnumeric()))\n",
    "print('É alfabético?{}'.format(algo.isalpha()))\n",
    "print('É alfanumérico?{}'.format(algo.isalnum()))\n",
    "print('Está em maiúsculas?{}'.format(algo.isupper()))\n",
    "print('Está em minúsculas?{}'.format(algo.islower()))\n",
    "print('Está capitalizada?{}'.format(algo.istitle))"
   ]
  },
  {
   "cell_type": "code",
   "execution_count": 11,
   "metadata": {},
   "outputs": [
    {
     "name": "stdin",
     "output_type": "stream",
     "text": [
      "Digite um número: 45\n"
     ]
    },
    {
     "name": "stdout",
     "output_type": "stream",
     "text": [
      "Analisando o valor45, seu antecessor é 44 e seu sucessor é 46\n"
     ]
    }
   ],
   "source": [
    "# Antecessor e Sucessor\n",
    "n= int(input(\"Digite um número:\"))\n",
    "print(f\"Analisando o valor{n}, seu antecessor é {n-1} e seu sucessor é {n+1}\")"
   ]
  },
  {
   "cell_type": "code",
   "execution_count": 12,
   "metadata": {},
   "outputs": [
    {
     "name": "stdin",
     "output_type": "stream",
     "text": [
      "Digite um número:  345\n"
     ]
    },
    {
     "name": "stdout",
     "output_type": "stream",
     "text": [
      "O dobro de 345 é 690.\n",
      "O triplo é 1035\n",
      "A raiz quadrada é 18.57.\n"
     ]
    }
   ],
   "source": [
    "# O dobro, o triplo e a raiz quadrada\n",
    "n = int(input('Digite um número: '))\n",
    "print(f\"O dobro de {n} é {n*2}.\\nO triplo é {n*3}\\nA raiz quadrada é {n**(1/2):.2f}.\")"
   ]
  },
  {
   "cell_type": "code",
   "execution_count": 19,
   "metadata": {},
   "outputs": [
    {
     "name": "stdin",
     "output_type": "stream",
     "text": [
      "Digite sua primeira nota:  6.6\n",
      "Digite sua segunda nota:  5.9\n"
     ]
    },
    {
     "name": "stdout",
     "output_type": "stream",
     "text": [
      "Parabéns, você foi aprovado!\n",
      "Média:6.25\n"
     ]
    }
   ],
   "source": [
    "n1 = float(input('Digite sua primeira nota: '))\n",
    "n2 = float(input('Digite sua segunda nota: '))\n",
    "m = (n1+n2)/2\n",
    "\n",
    "if (m >= 6) :\n",
    "    print(f\"Parabéns, você foi aprovado!\\nMédia:{m}\")\n",
    "else:\n",
    "    print(f\"Sinto muito, você foi reprovado!\\nMédia:{m}\")"
   ]
  },
  {
   "cell_type": "code",
   "execution_count": 23,
   "metadata": {},
   "outputs": [
    {
     "name": "stdin",
     "output_type": "stream",
     "text": [
      "Digite uma distância em metros:  68\n"
     ]
    },
    {
     "name": "stdout",
     "output_type": "stream",
     "text": [
      "a média de 68.0m corresponde a \n",
      "0.068km \n",
      "0.68dam \n",
      "7dm \n",
      "680cm \n",
      "6800mm\n"
     ]
    }
   ],
   "source": [
    "# Conversor de Medidas\n",
    "\n",
    "medida = float(input('Digite uma distância em metros: '))\n",
    "mm = medida * 1000\n",
    "cm = medida * 100\n",
    "dm = medida * 10\n",
    "dam = medida / 10\n",
    "hm = medida / 100\n",
    "km = medida / 1000\n",
    "print(\"a média de {}m corresponde a \\n{}km \\n{}dam \\n{:.0f}dm \\n{:.0f}cm \\n{:.0f}mm\".format(medida, km, hm, dam, dm, cm, mm))"
   ]
  },
  {
   "cell_type": "code",
   "execution_count": 2,
   "metadata": {},
   "outputs": [
    {
     "name": "stdin",
     "output_type": "stream",
     "text": [
      "Digite um número para ver sua tabuada: 7\n"
     ]
    },
    {
     "name": "stdout",
     "output_type": "stream",
     "text": [
      "============\n",
      "7x0= 0\n",
      "7x1= 7\n",
      "7x2= 14\n",
      "7x3= 21\n",
      "7x4= 28\n",
      "7x5= 35\n",
      "7x6= 42\n",
      "7x7= 49\n",
      "7x8= 56\n",
      "7x9= 63\n",
      "7x10= 70\n",
      "============\n"
     ]
    }
   ],
   "source": [
    "# Tabuada\n",
    "\n",
    "n = int(input('Digite um número para ver sua tabuada:'))\n",
    "\n",
    "print('=' * 12)\n",
    "print(f\"{n}x0=\",n*0)\n",
    "print(f\"{n}x1=\",n*1)\n",
    "print(f\"{n}x2=\",n*2)\n",
    "print(f\"{n}x3=\",n*3)\n",
    "print(f\"{n}x4=\",n*4)\n",
    "print(f\"{n}x5=\",n*5)\n",
    "print(f\"{n}x6=\",n*6)\n",
    "print(f\"{n}x7=\",n*7)\n",
    "print(f\"{n}x8=\",n*8)\n",
    "print(f\"{n}x9=\",n*9)\n",
    "print(f\"{n}x10=\",n*10)\n",
    "print('=' * 12)"
   ]
  },
  {
   "cell_type": "code",
   "execution_count": 13,
   "metadata": {},
   "outputs": [
    {
     "name": "stdin",
     "output_type": "stream",
     "text": [
      "Quanto dinheiro você tem na carteira?  158\n"
     ]
    },
    {
     "name": "stdout",
     "output_type": "stream",
     "text": [
      "Com R$158.00 você consegue comprar US$27.67 dólares.\n"
     ]
    }
   ],
   "source": [
    "# Conversor de moedas\n",
    "\n",
    "r =  float(input('Quanto dinheiro você tem na carteira? '))\n",
    "d = r / 5.71\n",
    "print(f'Com R${r:.2f} você consegue comprar US${d:.2f} dólares.')"
   ]
  },
  {
   "cell_type": "code",
   "execution_count": 16,
   "metadata": {},
   "outputs": [
    {
     "name": "stdin",
     "output_type": "stream",
     "text": [
      "Qual a largura da parede:  3\n",
      "Qual a altura da parede:  2.5\n"
     ]
    },
    {
     "name": "stdout",
     "output_type": "stream",
     "text": [
      "A área total da parede é: 7.50 m²\n",
      "Você precisará de 3.75 litros de tinta.\n"
     ]
    }
   ],
   "source": [
    "# Quanto litros de tinta eu vou precisar para pintar esta parede?\n",
    "b = float(input('Qual a largura da parede: '))\n",
    "h = float(input('Qual a altura da parede: '))\n",
    "a = b * h\n",
    "tinta = a / 2\n",
    "print(f'A área total da parede é: {a:.2f} m²')\n",
    "print(f'Você precisará de {tinta:.2f} litros de tinta.')"
   ]
  },
  {
   "cell_type": "code",
   "execution_count": 20,
   "metadata": {},
   "outputs": [
    {
     "name": "stdin",
     "output_type": "stream",
     "text": [
      "Informe o preço do produto que deseja comprar: R$  2568.90\n"
     ]
    },
    {
     "name": "stdout",
     "output_type": "stream",
     "text": [
      "Este produto está com 15% de desconto e o novo valor é R$ 2183.57.\n"
     ]
    }
   ],
   "source": [
    "# Desconto\n",
    "\n",
    "price = float(input('Informe o preço do produto que deseja comprar: R$ '))\n",
    "value = price * 0.85\n",
    "print(f'Este produto está com 15% de desconto e o novo valor é R$ {value:.2f}.')"
   ]
  },
  {
   "cell_type": "code",
   "execution_count": 31,
   "metadata": {},
   "outputs": [
    {
     "name": "stdin",
     "output_type": "stream",
     "text": [
      "Qual é o salário do funcionário? R$ 2350.65\n"
     ]
    },
    {
     "name": "stdout",
     "output_type": "stream",
     "text": [
      "Com o reajuste de 15%, o sálário passa ser de R$2350.65 para R$2703.25\n"
     ]
    }
   ],
   "source": [
    "# Reajuste Salarial\n",
    "\n",
    "wagebf = float(input('Qual é o salário do funcionário? R$'))\n",
    "wageupd = wagebf * 1.15\n",
    "print(f'Com o reajuste de 15%, o sálário passa ser de R${wagebf} para R${wageupd:.2f}') "
   ]
  },
  {
   "cell_type": "code",
   "execution_count": 39,
   "metadata": {},
   "outputs": [
    {
     "name": "stdin",
     "output_type": "stream",
     "text": [
      "Qual a temperatura em graus Celsius?  27\n"
     ]
    },
    {
     "name": "stdout",
     "output_type": "stream",
     "text": [
      "A temperatura atual de 27 C° em Fahrenheit é: 81 F°\n"
     ]
    }
   ],
   "source": [
    "#Conversor de Temperatura:\n",
    "\n",
    "c = float(input('Qual a temperatura em graus Celsius? '))\n",
    "f = c * 1.8 + 32\n",
    "print(f'A temperatura atual de {c:.0f} C° em Fahrenheit é: {f:.0f} F°')"
   ]
  },
  {
   "cell_type": "code",
   "execution_count": 41,
   "metadata": {},
   "outputs": [
    {
     "name": "stdin",
     "output_type": "stream",
     "text": [
      "Quantos kms foram percorridos?  579\n",
      "Por quantos dias o carro foi alugado?  5\n"
     ]
    },
    {
     "name": "stdout",
     "output_type": "stream",
     "text": [
      "O valor total a ser pago é de: R$589.50\n"
     ]
    }
   ],
   "source": [
    "# Aluguel de Carros \n",
    "km = float(input('Quantos kms foram percorridos? '))\n",
    "d = int(input('Por quantos dias o carro foi alugado? '))\n",
    "total = (km * 0.50) + (d * 60) \n",
    "print(f\"O valor total a ser pago é de: R${total:.2f}\")"
   ]
  },
  {
   "cell_type": "code",
   "execution_count": 44,
   "metadata": {},
   "outputs": [
    {
     "name": "stdin",
     "output_type": "stream",
     "text": [
      "Informe um valor:  56.7\n"
     ]
    },
    {
     "name": "stdout",
     "output_type": "stream",
     "text": [
      "A parte inteira de 56.7 é: 56\n"
     ]
    }
   ],
   "source": [
    "# Quebrar um número:\n",
    "\n",
    "n = float(input('Informe um valor: '))\n",
    "\n",
    "print(f'A parte inteira de {n} é: {n//1:.0f}')"
   ]
  },
  {
   "cell_type": "code",
   "execution_count": 48,
   "metadata": {},
   "outputs": [
    {
     "name": "stdin",
     "output_type": "stream",
     "text": [
      "Comprimento do cateto oposto:  45\n",
      "Comprimento do cateto adjacente:  12\n"
     ]
    },
    {
     "name": "stdout",
     "output_type": "stream",
     "text": [
      "O comprimento da hipotenusaé: 46.57\n"
     ]
    }
   ],
   "source": [
    "#Catetos e Hipotenusa\n",
    "\n",
    "# 1ª forma:\n",
    "co = float(input('Comprimento do cateto oposto: '))\n",
    "ca = float(input('Comprimento do cateto adjacente: '))\n",
    "h = (co**2 + ca**2) **(1/2)\n",
    "print(f'O comprimento da hipotenusaé: {h:.2f}')\n"
   ]
  },
  {
   "cell_type": "code",
   "execution_count": 53,
   "metadata": {},
   "outputs": [],
   "source": [
    "# 2ª forma\n",
    "from math import hypot"
   ]
  },
  {
   "cell_type": "code",
   "execution_count": 56,
   "metadata": {},
   "outputs": [
    {
     "name": "stdin",
     "output_type": "stream",
     "text": [
      "Comprimento do cateto oposto:  23\n"
     ]
    }
   ],
   "source": [
    "co = float(input('Comprimento do cateto oposto: '))"
   ]
  },
  {
   "cell_type": "code",
   "execution_count": 57,
   "metadata": {},
   "outputs": [
    {
     "name": "stdin",
     "output_type": "stream",
     "text": [
      "Comprimento do cateto adjacente:  25\n"
     ]
    }
   ],
   "source": [
    "  ca = float(input('Comprimento do cateto adjacente: '))"
   ]
  },
  {
   "cell_type": "code",
   "execution_count": 60,
   "metadata": {},
   "outputs": [],
   "source": [
    "  h = hypot(co,ca)"
   ]
  },
  {
   "cell_type": "code",
   "execution_count": 61,
   "metadata": {},
   "outputs": [
    {
     "name": "stdout",
     "output_type": "stream",
     "text": [
      "O comprimento da hipotenusa é: 33.97\n"
     ]
    }
   ],
   "source": [
    " print(f'O comprimento da hipotenusa é: {h:.2f}')"
   ]
  },
  {
   "cell_type": "code",
   "execution_count": 76,
   "metadata": {},
   "outputs": [
    {
     "name": "stdin",
     "output_type": "stream",
     "text": [
      "Digite o ângulo:  67\n"
     ]
    },
    {
     "name": "stdout",
     "output_type": "stream",
     "text": [
      "Se o ângulo for 67.0\n",
      "O seno será 0.921 \n",
      "O cosseno será 0.391 \n",
      "E a tangente será 2.356\n"
     ]
    }
   ],
   "source": [
    "# Seno, Cosseno e Tangente\n",
    "import math\n",
    "ang = float(input('Digite o ângulo: '))\n",
    "r = math.radians(ang)\n",
    "s = math.sin(r)\n",
    "c = math.cos(r)\n",
    "t = math.tan(r)\n",
    "print(f'Se o ângulo for {ang}\\nO seno será {s:.3f} \\nO cosseno será {c:.3f} \\nE a tangente será {t:.3f}')"
   ]
  },
  {
   "cell_type": "code",
   "execution_count": 78,
   "metadata": {},
   "outputs": [
    {
     "name": "stdin",
     "output_type": "stream",
     "text": [
      "Primeiro aluno: Pollyana Gouveia\n",
      "Segundo aluno: Isiro Pereira de Luz\n",
      "Terceiro aluno: Priscila Gouveia\n",
      "Quarto aluno: Maria José\n"
     ]
    },
    {
     "name": "stdout",
     "output_type": "stream",
     "text": [
      "O aluno escolhido foi: Maria José\n"
     ]
    }
   ],
   "source": [
    "# Sorteando \n",
    "from random import choice\n",
    "p = str(input('Primeiro aluno:'))\n",
    "s = str(input('Segundo aluno:'))\n",
    "t = str(input('Terceiro aluno:'))\n",
    "q = str(input('Quarto aluno:'))\n",
    "\n",
    "c = choice([p, s, t, q])\n",
    "\n",
    "print(f'O aluno escolhido foi: {c}')"
   ]
  },
  {
   "cell_type": "code",
   "execution_count": 81,
   "metadata": {},
   "outputs": [
    {
     "name": "stdout",
     "output_type": "stream",
     "text": [
      "O bicho é:['Cachorro: 17, 18, 19, 20']\n"
     ]
    }
   ],
   "source": [
    "# Jogo do bicho\n",
    "from random import choice\n",
    "g1 = ['Avestruz: 01, 02 ,03, 04']\n",
    "g2 = ['Águia: 05, 06, 07, 08']\n",
    "g3 = ['Burro: 09, 10, 11, 12']\n",
    "g4 = ['Borboleta: 13, 14, 15, 16']\n",
    "g5 = ['Cachorro: 17, 18, 19, 20']\n",
    "g6 = ['Cabra: 21, 22, 23, 24']\n",
    "g7 = ['Carneiro: 25, 26, 27, 28']\n",
    "g8 = ['Camelo: 29, 30, 31, 32']\n",
    "g9 = ['Cobra: 33, 34, 35, 36']\n",
    "g10 =['Coelho: 37, 38, 39, 40']\n",
    "g11 =['Cavalo: 41, 42, 43, 44']\n",
    "g12 =['Elefante: 45, 46, 47, 48']\n",
    "g13 =['Galo: 49, 50, 51, 52']\n",
    "g14 =['Gato: 53, 54, 55, 56']\n",
    "g15 =['Jacaré: 57, 58, 59, 60']\n",
    "g16 =['Leão: 61, 62, 63, 64']\n",
    "g17 =['Macaco: 65, 66, 67, 68']\n",
    "g18 =['Porco: 69, 70, 71, 72']\n",
    "g19 =['Pavão: 73, 74, 75, 76']\n",
    "g20 =['Peru: 77, 78, 79, 80']\n",
    "g21 =['Touro: 81, 82, 83, 84']\n",
    "g22 =['Tigre: 85, 86, 87, 88']\n",
    "g23 =['Urso: 89, 90, 91, 92']\n",
    "g24 =['Veado: 93, 94, 95, 96']\n",
    "g25 =['Vaca: 97, 98, 99, 100']\n",
    "\n",
    "c = choice([g1, g2, g3, g4, g5, g6, g7, g8, g9, g10, g11, g12, g13, g14, g15, g16, g17, g18, g19, g20, g21, g22, g23, g24, g25])\n",
    "print(f'O bicho é:{c}')"
   ]
  },
  {
   "cell_type": "code",
   "execution_count": null,
   "metadata": {},
   "outputs": [],
   "source": []
  },
  {
   "cell_type": "code",
   "execution_count": null,
   "metadata": {},
   "outputs": [],
   "source": []
  },
  {
   "cell_type": "code",
   "execution_count": null,
   "metadata": {},
   "outputs": [],
   "source": []
  },
  {
   "cell_type": "code",
   "execution_count": null,
   "metadata": {},
   "outputs": [],
   "source": []
  }
 ],
 "metadata": {
  "kernelspec": {
   "display_name": "Python 3",
   "language": "python",
   "name": "python3"
  },
  "language_info": {
   "codemirror_mode": {
    "name": "ipython",
    "version": 3
   },
   "file_extension": ".py",
   "mimetype": "text/x-python",
   "name": "python",
   "nbconvert_exporter": "python",
   "pygments_lexer": "ipython3",
   "version": "3.7.9"
  }
 },
 "nbformat": 4,
 "nbformat_minor": 4
}
